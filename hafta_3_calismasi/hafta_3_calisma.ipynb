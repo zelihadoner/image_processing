{
 "cells": [
  {
   "cell_type": "code",
   "execution_count": 1,
   "metadata": {},
   "outputs": [
    {
     "data": {
      "text/plain": [
       "(19.7, 949.122222222222)"
      ]
     },
     "execution_count": 1,
     "metadata": {},
     "output_type": "execute_result"
    }
   ],
   "source": [
    "#liste oluşturup ortalamasını var varyansını alan fonksiyon\n",
    "def fonk(list=[2,5,89,65,7,5,5,2,9,8]):\n",
    "    t=0 #toplama işlemi için\n",
    "    s=0 #sayaç\n",
    "    for i in list:\n",
    "        s=s+1 #sayacı 1 arttırıyoruz\n",
    "        t=t+i #toplama i yi ekliyoruz\n",
    "    #t artık listedeki elemanların toplamını tutuyor\n",
    "    \n",
    "    mean=t/s  #mean ortalamadır\n",
    "    \n",
    "    t,s=0,0 #toplamı ve sayacı sıfırlıyoruz çünkü varyansı hesaplayacağız\n",
    "    for i in list:\n",
    "        s=s+1 #sayacı 1 arttırdık\n",
    "        t=t+(i-mean)*(i-mean)\n",
    "    var=t/(s-1)\n",
    "    \n",
    "    return mean,var\n",
    "fonk()"
   ]
  },
  {
   "cell_type": "code",
   "execution_count": 2,
   "metadata": {},
   "outputs": [
    {
     "data": {
      "text/plain": [
       "{2: 2, 5: 3, 89: 1, 65: 1, 7: 1, 9: 1, 8: 1}"
      ]
     },
     "execution_count": 2,
     "metadata": {},
     "output_type": "execute_result"
    }
   ],
   "source": [
    "list=[2,5,89,65,7,5,5,2,9,8]\n",
    "histogram_dict={}\n",
    "for i in list: #list in elemanlarını dolaşıyor\n",
    "    if i in histogram_dict.keys(): #eleman daha önce histo ya eklendiyse 1 arttır\n",
    "        histogram_dict[i]=histogram_dict[i]+1\n",
    "    else: #daha önce o eleman bulunmadıysa değeri 1 e eşitliyoruz\n",
    "        histogram_dict[i]=1\n",
    "\n",
    "histogram_dict"
   ]
  },
  {
   "cell_type": "code",
   "execution_count": 3,
   "metadata": {},
   "outputs": [
    {
     "data": {
      "text/plain": [
       "dict_keys([1, 22, 25])"
      ]
     },
     "execution_count": 3,
     "metadata": {},
     "output_type": "execute_result"
    }
   ],
   "source": [
    "histogram_dict={}\n",
    "histogram_dict[1]=10\n",
    "histogram_dict[22]=34\n",
    "histogram_dict[25]=14\n",
    "\n",
    "histogram_dict.keys() #???"
   ]
  },
  {
   "cell_type": "code",
   "execution_count": 4,
   "metadata": {},
   "outputs": [
    {
     "name": "stdout",
     "output_type": "stream",
     "text": [
      "1 10\n",
      "22 34\n",
      "25 14\n"
     ]
    }
   ],
   "source": [
    "#??????\n",
    "for i in histogram_dict.keys():\n",
    "    print(i,histogram_dict[i])"
   ]
  },
  {
   "cell_type": "code",
   "execution_count": 5,
   "metadata": {},
   "outputs": [],
   "source": [
    "import numpy as np\n",
    "import matplotlib.pyplot as plt\n",
    "im_1=plt.imread('dubai.jpg')"
   ]
  },
  {
   "cell_type": "code",
   "execution_count": 6,
   "metadata": {},
   "outputs": [],
   "source": [
    "#resmin histogramını bulan grafik\n",
    "def hist(im_1=plt.imread('dubai.jpg')):\n",
    "    m,n,p=im_1.shape\n",
    "    histogram={}\n",
    "    for i in range(m):\n",
    "        for j in range(n):\n",
    "            if im_1[i,j,0] in histogram.keys():\n",
    "                histogram[im_1[i,j,0]]=histogram[im_1[i,j,0]]+1\n",
    "            else:\n",
    "                histogram[im_1[i,j,0]]=1\n",
    "            if im_1[i,j,1] in histogram.keys():\n",
    "                histogram[im_1[i,j,1]]=histogram[im_1[i,j,1]]+1\n",
    "            else:\n",
    "                histogram[im_1[i,j,1]]=1\n",
    "            if im_1[i,j,2] in histogram.keys():\n",
    "                histogram[im_1[i,j,2]]=histogram[im_1[i,j,2]]+1\n",
    "            else:\n",
    "                histogram[im_1[i,j,2]]=1\n",
    "    return histogram"
   ]
  },
  {
   "cell_type": "code",
   "execution_count": 7,
   "metadata": {},
   "outputs": [],
   "source": [
    "#resmin histogram grafiğini çizen grafik\n",
    "def grafik(histogram=hist()):\n",
    "    x=[]\n",
    "    y=[]\n",
    "    for key in histogram.keys():\n",
    "        x.append(key)\n",
    "        y.append(histogram[key])\n",
    "    return x,y"
   ]
  },
  {
   "cell_type": "code",
   "execution_count": 9,
   "metadata": {},
   "outputs": [
    {
     "data": {
      "image/png": "[encoded data removed]",
      "text/plain": [
       "<Figure size 432x288 with 1 Axes>"
      ]
     },
     "metadata": {
      "needs_background": "light"
     },
     "output_type": "display_data"
    }
   ],
   "source": [
    "x,y=grafik()\n",
    "plt.bar(x,y)\n",
    "plt.show()"
   ]
  },
  {
   "cell_type": "code",
   "execution_count": null,
   "metadata": {},
   "outputs": [],
   "source": []
  }
 ],
 "metadata": {
  "kernelspec": {
   "display_name": "Python 3",
   "language": "python",
   "name": "python3"
  },
  "language_info": {
   "codemirror_mode": {
    "name": "ipython",
    "version": 3
   },
   "file_extension": ".py",
   "mimetype": "text/x-python",
   "name": "python",
   "nbconvert_exporter": "python",
   "pygments_lexer": "ipython3",
   "version": "3.7.3"
  }
 },
 "nbformat": 4,
 "nbformat_minor": 2
}
