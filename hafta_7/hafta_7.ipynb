{
 "cells": [
  {
   "cell_type": "code",
   "execution_count": 6,
   "metadata": {},
   "outputs": [],
   "source": [
    "import matplotlib.pyplot as plt\n",
    "import numpy as np"
   ]
  },
  {
   "cell_type": "code",
   "execution_count": 7,
   "metadata": {},
   "outputs": [],
   "source": [
    "x=[180,170,170,175,181,175,177,185,179,160]\n",
    "y=[95,70,60,71,60,63,83,80,75,50]"
   ]
  },
  {
   "cell_type": "code",
   "execution_count": 8,
   "metadata": {},
   "outputs": [],
   "source": [
    "#x1,x1,len(x1),len(x2)"
   ]
  },
  {
   "cell_type": "code",
   "execution_count": 12,
   "metadata": {},
   "outputs": [
    {
     "data": {
      "text/plain": [
       "array([[180, 170, 170, 175, 181, 175, 177, 185, 179, 160],\n",
       "       [ 95,  70,  60,  71,  60,  63,  83,  80,  75,  50]])"
      ]
     },
     "execution_count": 12,
     "metadata": {},
     "output_type": "execute_result"
    }
   ],
   "source": [
    "X = np.stack((x, y), axis=0)\n",
    "X"
   ]
  },
  {
   "cell_type": "code",
   "execution_count": 14,
   "metadata": {},
   "outputs": [
    {
     "data": {
      "text/plain": [
       "array([[ 50.62222222,  62.17777778],\n",
       "       [ 62.17777778, 173.78888889]])"
      ]
     },
     "execution_count": 14,
     "metadata": {},
     "output_type": "execute_result"
    }
   ],
   "source": [
    "sigma_1=np.cov(X)  #(x-mu0)*(y-mu1)\n",
    "sigma_1"
   ]
  },
  {
   "cell_type": "code",
   "execution_count": 20,
   "metadata": {},
   "outputs": [],
   "source": [
    "def generate_data():\n",
    "    x=[180,170,170,175,181,175,177,185,179,160]\n",
    "    y=[95,70,60,71,60,63,83,80,75,50]\n",
    "    X = np.stack((x, y), axis=0)\n",
    "    return X\n",
    "\n",
    "def get_cov_matris(x):\n",
    "    sigma_1=np.cov(X)  \n",
    "    return sigma_1"
   ]
  },
  {
   "cell_type": "code",
   "execution_count": 21,
   "metadata": {},
   "outputs": [
    {
     "data": {
      "text/plain": [
       "array([[ 50.62222222,  62.17777778],\n",
       "       [ 62.17777778, 173.78888889]])"
      ]
     },
     "execution_count": 21,
     "metadata": {},
     "output_type": "execute_result"
    }
   ],
   "source": [
    "data_1=generate_data()\n",
    "get_cov_matris(data_1)"
   ]
  },
  {
   "cell_type": "code",
   "execution_count": 22,
   "metadata": {},
   "outputs": [],
   "source": [
    "def multivariate_normal(x, d, mean, covariance):\n",
    "    \"\"\"pdf of the multivariate normal distribution.\"\"\"\n",
    "    x_m = x - mean\n",
    "    return (1. / (np.sqrt((2 * np.pi)**d * np.linalg.det(covariance))) * \n",
    "            np.exp(-(np.linalg.solve(covariance, x_m).T.dot(x_m)) / 2))"
   ]
  },
  {
   "cell_type": "code",
   "execution_count": 32,
   "metadata": {},
   "outputs": [],
   "source": [
    "x_1=[175,72]\n",
    "d_1=2\n",
    "data=generate_data()\n",
    "mean_1=np.array([np.mean(data[0,:]),np.mean(data[1,:])])\n",
    "cov_1=get_cov_matris(data)"
   ]
  },
  {
   "cell_type": "code",
   "execution_count": 33,
   "metadata": {},
   "outputs": [
    {
     "data": {
      "text/plain": [
       "0.0022378635770797946"
      ]
     },
     "execution_count": 33,
     "metadata": {},
     "output_type": "execute_result"
    }
   ],
   "source": [
    "multivariate_normal(x_1, d_1, mean_1, cov_1)"
   ]
  },
  {
   "cell_type": "code",
   "execution_count": 36,
   "metadata": {},
   "outputs": [
    {
     "name": "stdout",
     "output_type": "stream",
     "text": [
      "164      2.9878294438190718e-05\n",
      "165      5.0986407887431516e-05\n",
      "166      8.39939980883647e-05\n",
      "167      0.00013357873209981304\n",
      "168      0.00020507919528291489\n",
      "169      0.0003039492787440659\n",
      "170      0.0004348864281722439\n",
      "171      0.0006006836578196165\n",
      "172      0.0008009603242001586\n",
      "173      0.0010310302691306022\n",
      "174      0.0012812298616125641\n",
      "175      0.0015370143198326688\n",
      "176      0.0017800163850132437\n",
      "177      0.0019900560620527813\n",
      "178      0.0021478396090483026\n",
      "179      0.0022378635770797946\n",
      "180      0.00225092276497228\n",
      "181      0.0021856610047343945\n",
      "182      0.002048803178253749\n",
      "183      0.0018540135303834729\n"
     ]
    }
   ],
   "source": [
    "for i in range(20):\n",
    "    v=164+i\n",
    "    x_1=[160+i,72]\n",
    "    s=multivariate_normal(x_1, d_1, mean_1, cov_1)\n",
    "    print(v,\"    \",s)"
   ]
  },
  {
   "cell_type": "code",
   "execution_count": null,
   "metadata": {},
   "outputs": [],
   "source": []
  }
 ],
 "metadata": {
  "kernelspec": {
   "display_name": "Python 3",
   "language": "python",
   "name": "python3"
  },
  "language_info": {
   "codemirror_mode": {
    "name": "ipython",
    "version": 3
   },
   "file_extension": ".py",
   "mimetype": "text/x-python",
   "name": "python",
   "nbconvert_exporter": "python",
   "pygments_lexer": "ipython3",
   "version": "3.7.3"
  }
 },
 "nbformat": 4,
 "nbformat_minor": 2
}
