{
 "cells": [
  {
   "cell_type": "code",
   "execution_count": 1,
   "metadata": {},
   "outputs": [
    {
     "data": {
      "text/plain": [
       "['.ipynb_checkpoints', 'Untitled.ipynb']"
      ]
     },
     "execution_count": 1,
     "metadata": {},
     "output_type": "execute_result"
    }
   ],
   "source": [
    "import os\n",
    "os.getcwd()\n",
    "os.listdir()"
   ]
  },
  {
   "cell_type": "code",
   "execution_count": 24,
   "metadata": {},
   "outputs": [],
   "source": [
    "my_list_1=[2,4,3,40,5,6,3,3,2,1]"
   ]
  },
  {
   "cell_type": "code",
   "execution_count": 29,
   "metadata": {},
   "outputs": [
    {
     "data": {
      "text/plain": [
       "(6.9, 137.43333333333334)"
      ]
     },
     "execution_count": 29,
     "metadata": {},
     "output_type": "execute_result"
    }
   ],
   "source": [
    "my_list_1=[2,4,3,40,5,6,3,3,2,1]\n",
    "def my_f_1(my_list_1=[2,4,3,40,5,6,3,3,2,1]):\n",
    "    t=0\n",
    "    s=0\n",
    "    for i in my_list_1:\n",
    "        s=s+1\n",
    "        t=t+i\n",
    "    mean_1=t/s\n",
    "    \n",
    "    t=0\n",
    "    s=0\n",
    "    for i in my_list_1:\n",
    "        s=s+1\n",
    "        t=t+(i-mean_1)*(i-mean_1)\n",
    "    var_1=t/(s-1)                     #varyans\n",
    "    \n",
    "    return mean_1,var_1\n",
    "my_f_1()"
   ]
  },
  {
   "cell_type": "code",
   "execution_count": 30,
   "metadata": {},
   "outputs": [
    {
     "data": {
      "text/plain": [
       "{2: 2, 4: 1, 3: 3, 40: 1, 5: 1, 6: 1, 1: 1}"
      ]
     },
     "execution_count": 30,
     "metadata": {},
     "output_type": "execute_result"
    }
   ],
   "source": [
    "my_list_1=[2,4,3,40,5,6,3,3,2,1]\n",
    "my_histogram={}    #hash yapısı\n",
    "for i in my_list_1:\n",
    "    if i in my_histogram.keys():\n",
    "        my_histogram[i]=my_histogram[i]+1 #varsa değerini bir arttır\n",
    "    else:\n",
    "        my_histogram[i]=1\n",
    "my_histogram"
   ]
  },
  {
   "cell_type": "code",
   "execution_count": 31,
   "metadata": {},
   "outputs": [],
   "source": [
    "my_histogram={}\n",
    "my_histogram[1]=10\n",
    "my_histogram[2]=34\n",
    "my_histogram[25]=14"
   ]
  },
  {
   "cell_type": "code",
   "execution_count": 32,
   "metadata": {},
   "outputs": [
    {
     "data": {
      "text/plain": [
       "dict_keys([1, 2, 25])"
      ]
     },
     "execution_count": 32,
     "metadata": {},
     "output_type": "execute_result"
    }
   ],
   "source": [
    "my_histogram.keys()"
   ]
  },
  {
   "cell_type": "code",
   "execution_count": 33,
   "metadata": {},
   "outputs": [
    {
     "name": "stdout",
     "output_type": "stream",
     "text": [
      "1 10\n",
      "2 34\n",
      "25 14\n"
     ]
    }
   ],
   "source": [
    "for i in my_histogram.keys():\n",
    "    print(i,my_histogram[i])"
   ]
  },
  {
   "cell_type": "code",
   "execution_count": 34,
   "metadata": {},
   "outputs": [],
   "source": [
    "import numpy as np\n",
    "import matplotlib.pyplot as plt"
   ]
  },
  {
   "cell_type": "code",
   "execution_count": 50,
   "metadata": {},
   "outputs": [
    {
     "data": {
      "text/plain": [
       "(3, (1080, 1920, 3))"
      ]
     },
     "execution_count": 50,
     "metadata": {},
     "output_type": "execute_result"
    }
   ],
   "source": [
    "image_1.ndim,image_1.shape"
   ]
  },
  {
   "cell_type": "code",
   "execution_count": 51,
   "metadata": {},
   "outputs": [],
   "source": [
    "def my_f_2(image_1=plt.imread('dubai.jpg')):\n",
    "    m,n,p=image_1.shape\n",
    "    my_histogram={}\n",
    "    for i in range(m):\n",
    "        for j in range(n):\n",
    "            if image_1[i,j,0] in my_histogram.keys():\n",
    "                my_histogram[image_1[i,j,0]]=my_histogram[image_1[i,j,0]]+1\n",
    "            else:\n",
    "                my_histogram[image_1[i,j,0]]=1\n",
    "    return my_histogram\n"
   ]
  },
  {
   "cell_type": "code",
   "execution_count": 57,
   "metadata": {
    "scrolled": true
   },
   "outputs": [],
   "source": [
    "def my_f_3(my_histogram=my_f_2()):\n",
    "    x=[]\n",
    "    y=[]\n",
    "    for key in my_histogram.keys():\n",
    "        x.append(key)\n",
    "        y.append(my_histogram[key])\n",
    "    return x,y\n"
   ]
  },
  {
   "cell_type": "code",
   "execution_count": 58,
   "metadata": {},
   "outputs": [
    {
     "data": {
      "image/png": "[encoded data removed]",
      "text/plain": [
       "<Figure size 432x288 with 1 Axes>"
      ]
     },
     "metadata": {
      "needs_background": "light"
     },
     "output_type": "display_data"
    }
   ],
   "source": [
    "x,y=my_f_3()\n",
    "plt.bar(x,y)\n",
    "plt.show()"
   ]
  },
  {
   "cell_type": "code",
   "execution_count": null,
   "metadata": {},
   "outputs": [],
   "source": []
  }
 ],
 "metadata": {
  "kernelspec": {
   "display_name": "Python 3",
   "language": "python",
   "name": "python3"
  },
  "language_info": {
   "codemirror_mode": {
    "name": "ipython",
    "version": 3
   },
   "file_extension": ".py",
   "mimetype": "text/x-python",
   "name": "python",
   "nbconvert_exporter": "python",
   "pygments_lexer": "ipython3",
   "version": "3.7.3"
  }
 },
 "nbformat": 4,
 "nbformat_minor": 2
}
